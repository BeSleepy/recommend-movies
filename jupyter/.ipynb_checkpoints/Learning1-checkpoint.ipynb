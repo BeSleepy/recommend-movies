{
 "cells": [
  {
   "cell_type": "markdown",
   "id": "8535df63-ae3b-4373-a028-f84c33624f97",
   "metadata": {},
   "source": [
    "# ML Algorithem\n",
    "First let's import some dependencies"
   ]
  },
  {
   "cell_type": "code",
   "execution_count": 2,
   "id": "45276f2b-f801-49d9-bb2a-4531016c61b8",
   "metadata": {},
   "outputs": [],
   "source": [
    "import numpy as np\n",
    "import pandas as pd\n",
    "import matplotlib.pyplot as plt"
   ]
  },
  {
   "cell_type": "code",
   "execution_count": 4,
   "id": "1f897b48-25e8-4c7c-b686-f5de795e3c02",
   "metadata": {},
   "outputs": [],
   "source": [
    "titanic_data = pd.read_csv(\"../data/titanic/train.csv\")"
   ]
  },
  {
   "cell_type": "code",
   "execution_count": null,
   "id": "0b58e124-977f-4dab-978d-05e6851a66ae",
   "metadata": {},
   "outputs": [],
   "source": [
    "titanic_data.head()"
   ]
  }
 ],
 "metadata": {
  "kernelspec": {
   "display_name": "Python 3 (ipykernel)",
   "language": "python",
   "name": "python3"
  },
  "language_info": {
   "codemirror_mode": {
    "name": "ipython",
    "version": 3
   },
   "file_extension": ".py",
   "mimetype": "text/x-python",
   "name": "python",
   "nbconvert_exporter": "python",
   "pygments_lexer": "ipython3",
   "version": "3.10.4"
  }
 },
 "nbformat": 4,
 "nbformat_minor": 5
}
