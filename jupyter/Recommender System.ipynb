{
 "cells": [
  {
   "cell_type": "code",
   "execution_count": 1,
   "metadata": {
    "collapsed": true
   },
   "outputs": [],
   "source": [
    "import string\n",
    "import re\n",
    "import pandas as pd\n",
    "import numpy as np\n",
    "import seaborn as sns\n",
    "import matplotlib.pyplot as plt\n",
    "import tensorflow as tf\n",
    "import tensorflow_recommenders as tfrs\n",
    "from collections import Counter\n",
    "from typing import Dict, Text\n",
    "from ast import literal_eval\n",
    "from datetime import datetime\n",
    "from wordcloud import WordCloud\n",
    "from sklearn.preprocessing import MinMaxScaler\n",
    "from sklearn.feature_extraction.text import TfidfVectorizer\n",
    "from sklearn.metrics.pairwise import cosine_similarity\n",
    "\n",
    "import warnings\n",
    "warnings.filterwarnings('ignore')"
   ]
  },
  {
   "cell_type": "code",
   "execution_count": 3,
   "outputs": [],
   "source": [
    "credits = pd.read_csv('../data/archive/credits.csv')\n",
    "keywords = pd.read_csv('../data/archive/keywords.csv')\n",
    "movies = pd.read_csv('../data/archive/movies_metadata.csv').\\\n",
    "                     drop(['belongs_to_collection', 'homepage', 'imdb_id', 'poster_path', 'status', 'title', 'video'], axis=1).\\\n",
    "                     drop([19730, 29503, 35587]) # Incorrect data type\n",
    "\n",
    "movies['id'] = movies['id'].astype('int64')\n",
    "\n",
    "df = movies.merge(keywords, on='id').\\\n",
    "    merge(credits, on='id')\n",
    "\n",
    "df['original_language'] = df['original_language'].fillna('')\n",
    "df['runtime'] = df['runtime'].fillna(0)\n",
    "df['tagline'] = df['tagline'].fillna('')\n",
    "\n",
    "df.dropna(inplace=True)"
   ],
   "metadata": {
    "collapsed": false
   }
  },
  {
   "cell_type": "code",
   "execution_count": 4,
   "outputs": [],
   "source": [
    "def get_text(text, obj='name'):\n",
    "    text = literal_eval(text)\n",
    "\n",
    "    if len(text) == 1:\n",
    "        for i in text:\n",
    "            return i[obj]\n",
    "    else:\n",
    "        s = []\n",
    "        for i in text:\n",
    "            s.append(i[obj])\n",
    "        return ', '.join(s)\n",
    "\n",
    "df['genres'] = df['genres'].apply(get_text)\n",
    "df['production_companies'] = df['production_companies'].apply(get_text)\n",
    "df['production_countries'] = df['production_countries'].apply(get_text)\n",
    "df['crew'] = df['crew'].apply(get_text)\n",
    "df['spoken_languages'] = df['spoken_languages'].apply(get_text)\n",
    "df['keywords'] = df['keywords'].apply(get_text)\n",
    "\n",
    "# New columns\n",
    "df['characters'] = df['cast'].apply(get_text, obj='character')\n",
    "df['actors'] = df['cast'].apply(get_text)\n",
    "\n",
    "df.drop('cast', axis=1, inplace=True)\n",
    "df = df[~df['original_title'].duplicated()]\n",
    "df = df.reset_index(drop=True)"
   ],
   "metadata": {
    "collapsed": false
   }
  },
  {
   "cell_type": "code",
   "execution_count": 5,
   "outputs": [
    {
     "data": {
      "text/plain": "   adult    budget                      genres     id original_language  \\\n0  False  30000000   Animation, Comedy, Family    862                en   \n1  False  65000000  Adventure, Fantasy, Family   8844                en   \n2  False         0             Romance, Comedy  15602                en   \n3  False  16000000      Comedy, Drama, Romance  31357                en   \n4  False         0                      Comedy  11862                en   \n\n                original_title  \\\n0                    Toy Story   \n1                      Jumanji   \n2             Grumpier Old Men   \n3            Waiting to Exhale   \n4  Father of the Bride Part II   \n\n                                            overview popularity  \\\n0  Led by Woody, Andy's toys live happily in his ...  21.946943   \n1  When siblings Judy and Peter discover an encha...  17.015539   \n2  A family wedding reignites the ancient feud be...    11.7129   \n3  Cheated on, mistreated and stepped on, the wom...   3.859495   \n4  Just when George Banks has recovered from his ...   8.387519   \n\n                                production_companies  \\\n0                            Pixar Animation Studios   \n1  TriStar Pictures, Teitler Film, Interscope Com...   \n2                       Warner Bros., Lancaster Gate   \n3             Twentieth Century Fox Film Corporation   \n4         Sandollar Productions, Touchstone Pictures   \n\n       production_countries  ...      revenue  runtime   spoken_languages  \\\n0  United States of America  ...  373554033.0     81.0            English   \n1  United States of America  ...  262797249.0    104.0  English, Français   \n2  United States of America  ...          0.0    101.0            English   \n3  United States of America  ...   81452156.0    127.0            English   \n4  United States of America  ...   76578911.0    106.0            English   \n\n                                             tagline vote_average  vote_count  \\\n0                                                             7.7      5415.0   \n1          Roll the dice and unleash the excitement!          6.9      2413.0   \n2  Still Yelling. Still Fighting. Still Ready for...          6.5        92.0   \n3  Friends are the people who let you be yourself...          6.1        34.0   \n4  Just When His World Is Back To Normal... He's ...          5.7       173.0   \n\n                                            keywords  \\\n0  jealousy, toy, boy, friendship, friends, rival...   \n1  board game, disappearance, based on children's...   \n2  fishing, best friend, duringcreditsstinger, ol...   \n3  based on novel, interracial relationship, sing...   \n4  baby, midlife crisis, confidence, aging, daugh...   \n\n                                                crew  \\\n0  John Lasseter, Joss Whedon, Andrew Stanton, Jo...   \n1  Larry J. Franco, Jonathan Hensleigh, James Hor...   \n2  Howard Deutch, Mark Steven Johnson, Mark Steve...   \n3  Forest Whitaker, Ronald Bass, Ronald Bass, Ezr...   \n4  Alan Silvestri, Elliot Davis, Nancy Meyers, Na...   \n\n                                          characters  \\\n0  Woody (voice), Buzz Lightyear (voice), Mr. Pot...   \n1  Alan Parrish, Samuel Alan Parrish / Van Pelt, ...   \n2  Max Goldman, John Gustafson, Ariel Gustafson, ...   \n3  Savannah 'Vannah' Jackson, Bernadine 'Bernie' ...   \n4  George Banks, Nina Banks, Franck Eggelhoffer, ...   \n\n                                              actors  \n0  Tom Hanks, Tim Allen, Don Rickles, Jim Varney,...  \n1  Robin Williams, Jonathan Hyde, Kirsten Dunst, ...  \n2  Walter Matthau, Jack Lemmon, Ann-Margret, Soph...  \n3  Whitney Houston, Angela Bassett, Loretta Devin...  \n4  Steve Martin, Diane Keaton, Martin Short, Kimb...  \n\n[5 rows x 21 columns]",
      "text/html": "<div>\n<style scoped>\n    .dataframe tbody tr th:only-of-type {\n        vertical-align: middle;\n    }\n\n    .dataframe tbody tr th {\n        vertical-align: top;\n    }\n\n    .dataframe thead th {\n        text-align: right;\n    }\n</style>\n<table border=\"1\" class=\"dataframe\">\n  <thead>\n    <tr style=\"text-align: right;\">\n      <th></th>\n      <th>adult</th>\n      <th>budget</th>\n      <th>genres</th>\n      <th>id</th>\n      <th>original_language</th>\n      <th>original_title</th>\n      <th>overview</th>\n      <th>popularity</th>\n      <th>production_companies</th>\n      <th>production_countries</th>\n      <th>...</th>\n      <th>revenue</th>\n      <th>runtime</th>\n      <th>spoken_languages</th>\n      <th>tagline</th>\n      <th>vote_average</th>\n      <th>vote_count</th>\n      <th>keywords</th>\n      <th>crew</th>\n      <th>characters</th>\n      <th>actors</th>\n    </tr>\n  </thead>\n  <tbody>\n    <tr>\n      <th>0</th>\n      <td>False</td>\n      <td>30000000</td>\n      <td>Animation, Comedy, Family</td>\n      <td>862</td>\n      <td>en</td>\n      <td>Toy Story</td>\n      <td>Led by Woody, Andy's toys live happily in his ...</td>\n      <td>21.946943</td>\n      <td>Pixar Animation Studios</td>\n      <td>United States of America</td>\n      <td>...</td>\n      <td>373554033.0</td>\n      <td>81.0</td>\n      <td>English</td>\n      <td></td>\n      <td>7.7</td>\n      <td>5415.0</td>\n      <td>jealousy, toy, boy, friendship, friends, rival...</td>\n      <td>John Lasseter, Joss Whedon, Andrew Stanton, Jo...</td>\n      <td>Woody (voice), Buzz Lightyear (voice), Mr. Pot...</td>\n      <td>Tom Hanks, Tim Allen, Don Rickles, Jim Varney,...</td>\n    </tr>\n    <tr>\n      <th>1</th>\n      <td>False</td>\n      <td>65000000</td>\n      <td>Adventure, Fantasy, Family</td>\n      <td>8844</td>\n      <td>en</td>\n      <td>Jumanji</td>\n      <td>When siblings Judy and Peter discover an encha...</td>\n      <td>17.015539</td>\n      <td>TriStar Pictures, Teitler Film, Interscope Com...</td>\n      <td>United States of America</td>\n      <td>...</td>\n      <td>262797249.0</td>\n      <td>104.0</td>\n      <td>English, Français</td>\n      <td>Roll the dice and unleash the excitement!</td>\n      <td>6.9</td>\n      <td>2413.0</td>\n      <td>board game, disappearance, based on children's...</td>\n      <td>Larry J. Franco, Jonathan Hensleigh, James Hor...</td>\n      <td>Alan Parrish, Samuel Alan Parrish / Van Pelt, ...</td>\n      <td>Robin Williams, Jonathan Hyde, Kirsten Dunst, ...</td>\n    </tr>\n    <tr>\n      <th>2</th>\n      <td>False</td>\n      <td>0</td>\n      <td>Romance, Comedy</td>\n      <td>15602</td>\n      <td>en</td>\n      <td>Grumpier Old Men</td>\n      <td>A family wedding reignites the ancient feud be...</td>\n      <td>11.7129</td>\n      <td>Warner Bros., Lancaster Gate</td>\n      <td>United States of America</td>\n      <td>...</td>\n      <td>0.0</td>\n      <td>101.0</td>\n      <td>English</td>\n      <td>Still Yelling. Still Fighting. Still Ready for...</td>\n      <td>6.5</td>\n      <td>92.0</td>\n      <td>fishing, best friend, duringcreditsstinger, ol...</td>\n      <td>Howard Deutch, Mark Steven Johnson, Mark Steve...</td>\n      <td>Max Goldman, John Gustafson, Ariel Gustafson, ...</td>\n      <td>Walter Matthau, Jack Lemmon, Ann-Margret, Soph...</td>\n    </tr>\n    <tr>\n      <th>3</th>\n      <td>False</td>\n      <td>16000000</td>\n      <td>Comedy, Drama, Romance</td>\n      <td>31357</td>\n      <td>en</td>\n      <td>Waiting to Exhale</td>\n      <td>Cheated on, mistreated and stepped on, the wom...</td>\n      <td>3.859495</td>\n      <td>Twentieth Century Fox Film Corporation</td>\n      <td>United States of America</td>\n      <td>...</td>\n      <td>81452156.0</td>\n      <td>127.0</td>\n      <td>English</td>\n      <td>Friends are the people who let you be yourself...</td>\n      <td>6.1</td>\n      <td>34.0</td>\n      <td>based on novel, interracial relationship, sing...</td>\n      <td>Forest Whitaker, Ronald Bass, Ronald Bass, Ezr...</td>\n      <td>Savannah 'Vannah' Jackson, Bernadine 'Bernie' ...</td>\n      <td>Whitney Houston, Angela Bassett, Loretta Devin...</td>\n    </tr>\n    <tr>\n      <th>4</th>\n      <td>False</td>\n      <td>0</td>\n      <td>Comedy</td>\n      <td>11862</td>\n      <td>en</td>\n      <td>Father of the Bride Part II</td>\n      <td>Just when George Banks has recovered from his ...</td>\n      <td>8.387519</td>\n      <td>Sandollar Productions, Touchstone Pictures</td>\n      <td>United States of America</td>\n      <td>...</td>\n      <td>76578911.0</td>\n      <td>106.0</td>\n      <td>English</td>\n      <td>Just When His World Is Back To Normal... He's ...</td>\n      <td>5.7</td>\n      <td>173.0</td>\n      <td>baby, midlife crisis, confidence, aging, daugh...</td>\n      <td>Alan Silvestri, Elliot Davis, Nancy Meyers, Na...</td>\n      <td>George Banks, Nina Banks, Franck Eggelhoffer, ...</td>\n      <td>Steve Martin, Diane Keaton, Martin Short, Kimb...</td>\n    </tr>\n  </tbody>\n</table>\n<p>5 rows × 21 columns</p>\n</div>"
     },
     "execution_count": 5,
     "metadata": {},
     "output_type": "execute_result"
    }
   ],
   "source": [
    "df.head()"
   ],
   "metadata": {
    "collapsed": false
   }
  },
  {
   "cell_type": "code",
   "execution_count": 7,
   "outputs": [
    {
     "data": {
      "text/plain": "   userId  movieId  rating                date  \\\n0       1     1371     2.5 2009-12-14 03:52:15   \n1       1     1405     1.0 2009-12-14 03:53:23   \n2       1     2105     4.0 2009-12-14 03:52:19   \n3       1     2193     2.0 2009-12-14 03:53:18   \n4       1     2294     2.0 2009-12-14 03:51:48   \n\n                   original_title                  genres  \\\n0                       Rocky III                   Drama   \n1                           Greed          Drama, History   \n2                    American Pie         Comedy, Romance   \n3                        My Tutor  Comedy, Drama, Romance   \n4  Jay and Silent Bob Strike Back                  Comedy   \n\n                                            overview  \n0  Now the world champion, Rocky Balboa is living...  \n1  Greed is the classic 1924 silent film by Erich...  \n2  At a high-school party, four friends find that...  \n3  High school senior Bobby Chrystal fails his Fr...  \n4  When Jay and Silent Bob learn that their comic...  ",
      "text/html": "<div>\n<style scoped>\n    .dataframe tbody tr th:only-of-type {\n        vertical-align: middle;\n    }\n\n    .dataframe tbody tr th {\n        vertical-align: top;\n    }\n\n    .dataframe thead th {\n        text-align: right;\n    }\n</style>\n<table border=\"1\" class=\"dataframe\">\n  <thead>\n    <tr style=\"text-align: right;\">\n      <th></th>\n      <th>userId</th>\n      <th>movieId</th>\n      <th>rating</th>\n      <th>date</th>\n      <th>original_title</th>\n      <th>genres</th>\n      <th>overview</th>\n    </tr>\n  </thead>\n  <tbody>\n    <tr>\n      <th>0</th>\n      <td>1</td>\n      <td>1371</td>\n      <td>2.5</td>\n      <td>2009-12-14 03:52:15</td>\n      <td>Rocky III</td>\n      <td>Drama</td>\n      <td>Now the world champion, Rocky Balboa is living...</td>\n    </tr>\n    <tr>\n      <th>1</th>\n      <td>1</td>\n      <td>1405</td>\n      <td>1.0</td>\n      <td>2009-12-14 03:53:23</td>\n      <td>Greed</td>\n      <td>Drama, History</td>\n      <td>Greed is the classic 1924 silent film by Erich...</td>\n    </tr>\n    <tr>\n      <th>2</th>\n      <td>1</td>\n      <td>2105</td>\n      <td>4.0</td>\n      <td>2009-12-14 03:52:19</td>\n      <td>American Pie</td>\n      <td>Comedy, Romance</td>\n      <td>At a high-school party, four friends find that...</td>\n    </tr>\n    <tr>\n      <th>3</th>\n      <td>1</td>\n      <td>2193</td>\n      <td>2.0</td>\n      <td>2009-12-14 03:53:18</td>\n      <td>My Tutor</td>\n      <td>Comedy, Drama, Romance</td>\n      <td>High school senior Bobby Chrystal fails his Fr...</td>\n    </tr>\n    <tr>\n      <th>4</th>\n      <td>1</td>\n      <td>2294</td>\n      <td>2.0</td>\n      <td>2009-12-14 03:51:48</td>\n      <td>Jay and Silent Bob Strike Back</td>\n      <td>Comedy</td>\n      <td>When Jay and Silent Bob learn that their comic...</td>\n    </tr>\n  </tbody>\n</table>\n</div>"
     },
     "execution_count": 7,
     "metadata": {},
     "output_type": "execute_result"
    }
   ],
   "source": [
    "ratings_df = pd.read_csv('../data/archive/ratings_small.csv')\n",
    "\n",
    "ratings_df['date'] = ratings_df['timestamp'].apply(lambda x: datetime.fromtimestamp(x))\n",
    "ratings_df.drop('timestamp', axis=1, inplace=True)\n",
    "\n",
    "ratings_df = ratings_df.merge(df[['id', 'original_title', 'genres', 'overview']], left_on='movieId',right_on='id', how='left')\n",
    "ratings_df = ratings_df[~ratings_df['id'].isna()]\n",
    "ratings_df.drop('id', axis=1, inplace=True)\n",
    "ratings_df.reset_index(drop=True, inplace=True)\n",
    "\n",
    "ratings_df.head()"
   ],
   "metadata": {
    "collapsed": false
   }
  },
  {
   "cell_type": "code",
   "execution_count": 8,
   "outputs": [
    {
     "data": {
      "text/plain": "   movieId               original_title\n0      862                    Toy Story\n1     8844                      Jumanji\n2    15602             Grumpier Old Men\n3    31357            Waiting to Exhale\n4    11862  Father of the Bride Part II",
      "text/html": "<div>\n<style scoped>\n    .dataframe tbody tr th:only-of-type {\n        vertical-align: middle;\n    }\n\n    .dataframe tbody tr th {\n        vertical-align: top;\n    }\n\n    .dataframe thead th {\n        text-align: right;\n    }\n</style>\n<table border=\"1\" class=\"dataframe\">\n  <thead>\n    <tr style=\"text-align: right;\">\n      <th></th>\n      <th>movieId</th>\n      <th>original_title</th>\n    </tr>\n  </thead>\n  <tbody>\n    <tr>\n      <th>0</th>\n      <td>862</td>\n      <td>Toy Story</td>\n    </tr>\n    <tr>\n      <th>1</th>\n      <td>8844</td>\n      <td>Jumanji</td>\n    </tr>\n    <tr>\n      <th>2</th>\n      <td>15602</td>\n      <td>Grumpier Old Men</td>\n    </tr>\n    <tr>\n      <th>3</th>\n      <td>31357</td>\n      <td>Waiting to Exhale</td>\n    </tr>\n    <tr>\n      <th>4</th>\n      <td>11862</td>\n      <td>Father of the Bride Part II</td>\n    </tr>\n  </tbody>\n</table>\n</div>"
     },
     "execution_count": 8,
     "metadata": {},
     "output_type": "execute_result"
    }
   ],
   "source": [
    "movies_df = df[['id', 'original_title']]\n",
    "movies_df.rename(columns={'id':'movieId'}, inplace=True)\n",
    "movies_df.head()"
   ],
   "metadata": {
    "collapsed": false
   }
  },
  {
   "cell_type": "code",
   "execution_count": 9,
   "outputs": [],
   "source": [
    "ratings_df['userId'] = ratings_df['userId'].astype(str)\n",
    "\n",
    "ratings = tf.data.Dataset.from_tensor_slices(dict(ratings_df[['userId', 'original_title', 'rating']]))\n",
    "movies = tf.data.Dataset.from_tensor_slices(dict(movies_df[['original_title']]))\n",
    "\n",
    "ratings = ratings.map(lambda x: {\n",
    "    \"original_title\": x[\"original_title\"],\n",
    "    \"userId\": x[\"userId\"],\n",
    "    \"rating\": float(x[\"rating\"])\n",
    "})\n",
    "\n",
    "movies = movies.map(lambda x: x[\"original_title\"])"
   ],
   "metadata": {
    "collapsed": false
   }
  },
  {
   "cell_type": "code",
   "execution_count": 10,
   "outputs": [
    {
     "name": "stdout",
     "output_type": "stream",
     "text": [
      "Total Data: 43188\n"
     ]
    }
   ],
   "source": [
    "\n",
    "\n",
    "print('Total Data: {}'.format(len(ratings)))\n",
    "\n",
    "tf.random.set_seed(42)\n",
    "shuffled = ratings.shuffle(100_000, seed=42, reshuffle_each_iteration=False)\n",
    "\n",
    "train = ratings.take(35_000)\n",
    "test = ratings.skip(35_000).take(8_188)\n",
    "\n"
   ],
   "metadata": {
    "collapsed": false
   }
  },
  {
   "cell_type": "code",
   "execution_count": 11,
   "outputs": [
    {
     "name": "stdout",
     "output_type": "stream",
     "text": [
      "Unique Movies: 42373\n",
      "Unique users: 671\n"
     ]
    }
   ],
   "source": [
    "\n",
    "\n",
    "movie_titles = movies.batch(1_000)\n",
    "user_ids = ratings.batch(1_000).map(lambda x: x[\"userId\"])\n",
    "\n",
    "unique_movie_titles = np.unique(np.concatenate(list(movie_titles)))\n",
    "unique_user_ids = np.unique(np.concatenate(list(user_ids)))\n",
    "\n",
    "print('Unique Movies: {}'.format(len(unique_movie_titles)))\n",
    "print('Unique users: {}'.format(len(unique_user_ids)))\n",
    "\n"
   ],
   "metadata": {
    "collapsed": false
   }
  },
  {
   "cell_type": "code",
   "execution_count": 12,
   "outputs": [],
   "source": [
    "class MovieModel(tfrs.models.Model):\n",
    "\n",
    "  def __init__(self, rating_weight: float, retrieval_weight: float) -> None:\n",
    "    # We take the loss weights in the constructor: this allows us to instantiate\n",
    "    # several model objects with different loss weights.\n",
    "\n",
    "    super().__init__()\n",
    "\n",
    "    embedding_dimension = 64\n",
    "\n",
    "    # User and movie models.\n",
    "    self.movie_model: tf.keras.layers.Layer = tf.keras.Sequential([\n",
    "      tf.keras.layers.StringLookup(\n",
    "        vocabulary=unique_movie_titles, mask_token=None),\n",
    "      tf.keras.layers.Embedding(len(unique_movie_titles) + 1, embedding_dimension)\n",
    "    ])\n",
    "    self.user_model: tf.keras.layers.Layer = tf.keras.Sequential([\n",
    "      tf.keras.layers.StringLookup(\n",
    "        vocabulary=unique_user_ids, mask_token=None),\n",
    "      tf.keras.layers.Embedding(len(unique_user_ids) + 1, embedding_dimension)\n",
    "    ])\n",
    "\n",
    "    # A small model to take in user and movie embeddings and predict ratings.\n",
    "    # We can make this as complicated as we want as long as we output a scalar\n",
    "    # as our prediction.\n",
    "    self.rating_model = tf.keras.Sequential([\n",
    "        tf.keras.layers.Dense(256, activation=\"relu\"),\n",
    "        tf.keras.layers.Dense(128, activation=\"relu\"),\n",
    "        tf.keras.layers.Dense(1),\n",
    "    ])\n",
    "\n",
    "    # The tasks.\n",
    "    self.rating_task: tf.keras.layers.Layer = tfrs.tasks.Ranking(\n",
    "        loss=tf.keras.losses.MeanSquaredError(),\n",
    "        metrics=[tf.keras.metrics.RootMeanSquaredError()],\n",
    "    )\n",
    "    self.retrieval_task: tf.keras.layers.Layer = tfrs.tasks.Retrieval(\n",
    "        metrics=tfrs.metrics.FactorizedTopK(\n",
    "            candidates=movies.batch(128).map(self.movie_model)\n",
    "        )\n",
    "    )\n",
    "\n",
    "    # The loss weights.\n",
    "    self.rating_weight = rating_weight\n",
    "    self.retrieval_weight = retrieval_weight\n",
    "\n",
    "  def call(self, features: Dict[Text, tf.Tensor]) -> tf.Tensor:\n",
    "    # We pick out the user features and pass them into the user model.\n",
    "    user_embeddings = self.user_model(features[\"userId\"])\n",
    "    # And pick out the movie features and pass them into the movie model.\n",
    "    movie_embeddings = self.movie_model(features[\"original_title\"])\n",
    "\n",
    "    return (\n",
    "        user_embeddings,\n",
    "        movie_embeddings,\n",
    "        # We apply the multi-layered rating model to a concatentation of\n",
    "        # user and movie embeddings.\n",
    "        self.rating_model(\n",
    "            tf.concat([user_embeddings, movie_embeddings], axis=1)\n",
    "        ),\n",
    "    )\n",
    "\n",
    "  def compute_loss(self, features: Dict[Text, tf.Tensor], training=False) -> tf.Tensor:\n",
    "\n",
    "    ratings = features.pop(\"rating\")\n",
    "\n",
    "    user_embeddings, movie_embeddings, rating_predictions = self(features)\n",
    "\n",
    "    # We compute the loss for each task.\n",
    "    rating_loss = self.rating_task(\n",
    "        labels=ratings,\n",
    "        predictions=rating_predictions,\n",
    "    )\n",
    "    retrieval_loss = self.retrieval_task(user_embeddings, movie_embeddings)\n",
    "\n",
    "    # And combine them using the loss weights.\n",
    "    return (self.rating_weight * rating_loss\n",
    "            + self.retrieval_weight * retrieval_loss)"
   ],
   "metadata": {
    "collapsed": false
   }
  },
  {
   "cell_type": "code",
   "execution_count": 14,
   "outputs": [
    {
     "name": "stdout",
     "output_type": "stream",
     "text": [
      "Epoch 1/3\n",
      "35/35 [==============================] - 23s 615ms/step - root_mean_squared_error: 1.5521 - factorized_top_k/top_1_categorical_accuracy: 1.7143e-04 - factorized_top_k/top_5_categorical_accuracy: 0.0078 - factorized_top_k/top_10_categorical_accuracy: 0.0198 - factorized_top_k/top_50_categorical_accuracy: 0.1015 - factorized_top_k/top_100_categorical_accuracy: 0.1704 - loss: 6813.6396 - regularization_loss: 0.0000e+00 - total_loss: 6813.6396\n",
      "Epoch 2/3\n",
      "35/35 [==============================] - 21s 596ms/step - root_mean_squared_error: 0.9989 - factorized_top_k/top_1_categorical_accuracy: 7.7143e-04 - factorized_top_k/top_5_categorical_accuracy: 0.0193 - factorized_top_k/top_10_categorical_accuracy: 0.0440 - factorized_top_k/top_50_categorical_accuracy: 0.2001 - factorized_top_k/top_100_categorical_accuracy: 0.3245 - loss: 6450.1836 - regularization_loss: 0.0000e+00 - total_loss: 6450.1836\n",
      "Epoch 3/3\n",
      "35/35 [==============================] - 24s 689ms/step - root_mean_squared_error: 1.0118 - factorized_top_k/top_1_categorical_accuracy: 4.5714e-04 - factorized_top_k/top_5_categorical_accuracy: 0.0253 - factorized_top_k/top_10_categorical_accuracy: 0.0559 - factorized_top_k/top_50_categorical_accuracy: 0.2413 - factorized_top_k/top_100_categorical_accuracy: 0.3775 - loss: 6184.7540 - regularization_loss: 0.0000e+00 - total_loss: 6184.7540\n"
     ]
    },
    {
     "data": {
      "text/plain": "<keras.callbacks.History at 0x2207da953d0>"
     },
     "execution_count": 14,
     "metadata": {},
     "output_type": "execute_result"
    }
   ],
   "source": [
    "\n",
    "\n",
    "model = MovieModel(rating_weight=1.0, retrieval_weight=1.0)\n",
    "model.compile(optimizer=tf.keras.optimizers.Adagrad(0.1))\n",
    "\n",
    "cached_train = train.shuffle(100_000).batch(1_000).cache()\n",
    "cached_test = test.batch(1_000).cache()\n",
    "\n",
    "model.fit(cached_train, epochs=3)\n",
    "\n"
   ],
   "metadata": {
    "collapsed": false
   }
  },
  {
   "cell_type": "code",
   "execution_count": 15,
   "outputs": [
    {
     "name": "stdout",
     "output_type": "stream",
     "text": [
      "9/9 [==============================] - 5s 465ms/step - root_mean_squared_error: 1.1277 - factorized_top_k/top_1_categorical_accuracy: 4.8852e-04 - factorized_top_k/top_5_categorical_accuracy: 0.0048 - factorized_top_k/top_10_categorical_accuracy: 0.0078 - factorized_top_k/top_50_categorical_accuracy: 0.0412 - factorized_top_k/top_100_categorical_accuracy: 0.0732 - loss: 5727.9580 - regularization_loss: 0.0000e+00 - total_loss: 5727.9580\n",
      "\n",
      "Retrieval top-100 accuracy: 0.073\n",
      "Ranking RMSE: 1.128\n"
     ]
    }
   ],
   "source": [
    "metrics = model.evaluate(cached_test, return_dict=True)\n",
    "\n",
    "print(f\"\\nRetrieval top-100 accuracy: {metrics['factorized_top_k/top_100_categorical_accuracy']:.3f}\")\n",
    "print(f\"Ranking RMSE: {metrics['root_mean_squared_error']:.3f}\")\n"
   ],
   "metadata": {
    "collapsed": false
   }
  },
  {
   "cell_type": "code",
   "execution_count": 16,
   "outputs": [],
   "source": [
    "def predict_movie(user, top_n=3):\n",
    "    # Create a model that takes in raw query features, and\n",
    "    index = tfrs.layers.factorized_top_k.BruteForce(model.user_model)\n",
    "    # recommends movies out of the entire movies dataset.\n",
    "    index.index_from_dataset(\n",
    "      tf.data.Dataset.zip((movies.batch(100), movies.batch(100).map(model.movie_model)))\n",
    "    )\n",
    "\n",
    "    # Get recommendations.\n",
    "    _, titles = index(tf.constant([str(user)]))\n",
    "\n",
    "    print('Top {} recommendations for user {}:\\n'.format(top_n, user))\n",
    "    for i, title in enumerate(titles[0, :top_n].numpy()):\n",
    "        print('{}. {}'.format(i+1, title.decode(\"utf-8\")))\n",
    "\n",
    "def predict_rating(user, movie):\n",
    "    trained_movie_embeddings, trained_user_embeddings, predicted_rating = model({\n",
    "          \"userId\": np.array([str(user)]),\n",
    "          \"original_title\": np.array([movie])\n",
    "      })\n",
    "    print(\"Predicted rating for {}: {}\".format(movie, predicted_rating.numpy()[0][0]))"
   ],
   "metadata": {
    "collapsed": false
   }
  },
  {
   "cell_type": "code",
   "execution_count": 17,
   "outputs": [
    {
     "name": "stdout",
     "output_type": "stream",
     "text": [
      "Top 5 recommendations for user 123:\n",
      "\n",
      "1. The Greatest Story Ever Told\n",
      "2. Dog Day Afternoon\n",
      "3. Scary Movie\n",
      "4. Un long dimanche de fiançailles\n",
      "5. Azuloscurocasinegro\n"
     ]
    }
   ],
   "source": [
    "predict_movie(123, 5)"
   ],
   "metadata": {
    "collapsed": false
   }
  },
  {
   "cell_type": "code",
   "execution_count": 18,
   "outputs": [
    {
     "name": "stdout",
     "output_type": "stream",
     "text": [
      "Predicted rating for Minions: 2.9382400512695312\n"
     ]
    }
   ],
   "source": [
    "predict_rating(123,'Minions')"
   ],
   "metadata": {
    "collapsed": false
   }
  },
  {
   "cell_type": "code",
   "execution_count": 19,
   "outputs": [
    {
     "data": {
      "text/plain": "     userId  movieId  rating                date  \\\n8053    123      233     4.0 2001-07-01 22:57:06   \n8054    123      288     5.0 2001-07-01 21:32:47   \n8055    123      407     5.0 2001-07-01 22:57:57   \n8056    123      968     3.0 2001-07-01 22:59:01   \n8057    123     1968     4.0 2001-07-01 21:30:36   \n8058    123     1976     4.0 2001-07-01 21:31:51   \n8059    123     2003     4.0 2001-07-01 21:31:51   \n8060    123     2428     5.0 2001-07-01 22:57:06   \n8061    123     2502     5.0 2001-07-01 22:59:01   \n8062    123     2762     5.0 2001-07-01 22:59:54   \n8063    123     2841     5.0 2001-07-01 22:59:54   \n8064    123     2959     4.0 2001-07-01 22:57:18   \n8065    123     4228     5.0 2001-07-01 21:31:05   \n\n                       original_title                         genres  \\\n8053                    The Wanderers                          Drama   \n8054                        High Noon                        Western   \n8055              Kurz und schmerzlos                Drama, Thriller   \n8056                Dog Day Afternoon         Crime, Drama, Thriller   \n8057                    Fools Rush In         Drama, Comedy, Romance   \n8058                          Jezebel                 Drama, Romance   \n8059              Anatomie de l'enfer                          Drama   \n8060     The Greatest Story Ever Told                 Drama, History   \n8061             The Bourne Supremacy        Action, Drama, Thriller   \n8062               Young and Innocent                   Drama, Crime   \n8063  Un long dimanche de fiançailles                          Drama   \n8064                   License to Wed                         Comedy   \n8065          La révolution française  Drama, War, History, Thriller   \n\n                                               overview  \n8053  The streets of the Bronx are owned by 60’s you...  \n8054  High Noon is about a recently freed leader of ...  \n8055  Three friends get caught in a life of major cr...  \n8056  A man robs a bank to pay for his lover's opera...  \n8057  Alex Whitman (Matthew Perry) is a designer fro...  \n8058  In 1850s Louisiana, the willfulness of a tempe...  \n8059  A man rescues a woman from a suicide attempt i...  \n8060          All-star epic retelling of Christ's life.  \n8061  When a CIA operation to purchase classified Ru...  \n8062  Derrick De Marney finds himself in a 39 Steps ...  \n8063  In 1919, Mathilde was 19 years old. Two years ...  \n8064  Newly engaged, Ben and Sadie can't wait to sta...  \n8065  A history of the French Revolution from the de...  ",
      "text/html": "<div>\n<style scoped>\n    .dataframe tbody tr th:only-of-type {\n        vertical-align: middle;\n    }\n\n    .dataframe tbody tr th {\n        vertical-align: top;\n    }\n\n    .dataframe thead th {\n        text-align: right;\n    }\n</style>\n<table border=\"1\" class=\"dataframe\">\n  <thead>\n    <tr style=\"text-align: right;\">\n      <th></th>\n      <th>userId</th>\n      <th>movieId</th>\n      <th>rating</th>\n      <th>date</th>\n      <th>original_title</th>\n      <th>genres</th>\n      <th>overview</th>\n    </tr>\n  </thead>\n  <tbody>\n    <tr>\n      <th>8053</th>\n      <td>123</td>\n      <td>233</td>\n      <td>4.0</td>\n      <td>2001-07-01 22:57:06</td>\n      <td>The Wanderers</td>\n      <td>Drama</td>\n      <td>The streets of the Bronx are owned by 60’s you...</td>\n    </tr>\n    <tr>\n      <th>8054</th>\n      <td>123</td>\n      <td>288</td>\n      <td>5.0</td>\n      <td>2001-07-01 21:32:47</td>\n      <td>High Noon</td>\n      <td>Western</td>\n      <td>High Noon is about a recently freed leader of ...</td>\n    </tr>\n    <tr>\n      <th>8055</th>\n      <td>123</td>\n      <td>407</td>\n      <td>5.0</td>\n      <td>2001-07-01 22:57:57</td>\n      <td>Kurz und schmerzlos</td>\n      <td>Drama, Thriller</td>\n      <td>Three friends get caught in a life of major cr...</td>\n    </tr>\n    <tr>\n      <th>8056</th>\n      <td>123</td>\n      <td>968</td>\n      <td>3.0</td>\n      <td>2001-07-01 22:59:01</td>\n      <td>Dog Day Afternoon</td>\n      <td>Crime, Drama, Thriller</td>\n      <td>A man robs a bank to pay for his lover's opera...</td>\n    </tr>\n    <tr>\n      <th>8057</th>\n      <td>123</td>\n      <td>1968</td>\n      <td>4.0</td>\n      <td>2001-07-01 21:30:36</td>\n      <td>Fools Rush In</td>\n      <td>Drama, Comedy, Romance</td>\n      <td>Alex Whitman (Matthew Perry) is a designer fro...</td>\n    </tr>\n    <tr>\n      <th>8058</th>\n      <td>123</td>\n      <td>1976</td>\n      <td>4.0</td>\n      <td>2001-07-01 21:31:51</td>\n      <td>Jezebel</td>\n      <td>Drama, Romance</td>\n      <td>In 1850s Louisiana, the willfulness of a tempe...</td>\n    </tr>\n    <tr>\n      <th>8059</th>\n      <td>123</td>\n      <td>2003</td>\n      <td>4.0</td>\n      <td>2001-07-01 21:31:51</td>\n      <td>Anatomie de l'enfer</td>\n      <td>Drama</td>\n      <td>A man rescues a woman from a suicide attempt i...</td>\n    </tr>\n    <tr>\n      <th>8060</th>\n      <td>123</td>\n      <td>2428</td>\n      <td>5.0</td>\n      <td>2001-07-01 22:57:06</td>\n      <td>The Greatest Story Ever Told</td>\n      <td>Drama, History</td>\n      <td>All-star epic retelling of Christ's life.</td>\n    </tr>\n    <tr>\n      <th>8061</th>\n      <td>123</td>\n      <td>2502</td>\n      <td>5.0</td>\n      <td>2001-07-01 22:59:01</td>\n      <td>The Bourne Supremacy</td>\n      <td>Action, Drama, Thriller</td>\n      <td>When a CIA operation to purchase classified Ru...</td>\n    </tr>\n    <tr>\n      <th>8062</th>\n      <td>123</td>\n      <td>2762</td>\n      <td>5.0</td>\n      <td>2001-07-01 22:59:54</td>\n      <td>Young and Innocent</td>\n      <td>Drama, Crime</td>\n      <td>Derrick De Marney finds himself in a 39 Steps ...</td>\n    </tr>\n    <tr>\n      <th>8063</th>\n      <td>123</td>\n      <td>2841</td>\n      <td>5.0</td>\n      <td>2001-07-01 22:59:54</td>\n      <td>Un long dimanche de fiançailles</td>\n      <td>Drama</td>\n      <td>In 1919, Mathilde was 19 years old. Two years ...</td>\n    </tr>\n    <tr>\n      <th>8064</th>\n      <td>123</td>\n      <td>2959</td>\n      <td>4.0</td>\n      <td>2001-07-01 22:57:18</td>\n      <td>License to Wed</td>\n      <td>Comedy</td>\n      <td>Newly engaged, Ben and Sadie can't wait to sta...</td>\n    </tr>\n    <tr>\n      <th>8065</th>\n      <td>123</td>\n      <td>4228</td>\n      <td>5.0</td>\n      <td>2001-07-01 21:31:05</td>\n      <td>La révolution française</td>\n      <td>Drama, War, History, Thriller</td>\n      <td>A history of the French Revolution from the de...</td>\n    </tr>\n  </tbody>\n</table>\n</div>"
     },
     "execution_count": 19,
     "metadata": {},
     "output_type": "execute_result"
    }
   ],
   "source": [
    "ratings_df[ratings_df['userId'] == '123']"
   ],
   "metadata": {
    "collapsed": false
   }
  },
  {
   "cell_type": "code",
   "execution_count": 20,
   "outputs": [
    {
     "data": {
      "text/plain": "                    original_title                  genres  \\\n1     The Greatest Story Ever Told          Drama, History   \n2                Dog Day Afternoon  Crime, Drama, Thriller   \n3                      Scary Movie                  Comedy   \n4  Un long dimanche de fiançailles                   Drama   \n5              Azuloscurocasinegro                   Drama   \n\n                                            overview  \n1          All-star epic retelling of Christ's life.  \n2  A man robs a bank to pay for his lover's opera...  \n3  Following on the heels of popular teen-scream ...  \n4  In 1919, Mathilde was 19 years old. Two years ...  \n5  Jorge is a young man whose plans for the futur...  ",
      "text/html": "<div>\n<style scoped>\n    .dataframe tbody tr th:only-of-type {\n        vertical-align: middle;\n    }\n\n    .dataframe tbody tr th {\n        vertical-align: top;\n    }\n\n    .dataframe thead th {\n        text-align: right;\n    }\n</style>\n<table border=\"1\" class=\"dataframe\">\n  <thead>\n    <tr style=\"text-align: right;\">\n      <th></th>\n      <th>original_title</th>\n      <th>genres</th>\n      <th>overview</th>\n    </tr>\n  </thead>\n  <tbody>\n    <tr>\n      <th>1</th>\n      <td>The Greatest Story Ever Told</td>\n      <td>Drama, History</td>\n      <td>All-star epic retelling of Christ's life.</td>\n    </tr>\n    <tr>\n      <th>2</th>\n      <td>Dog Day Afternoon</td>\n      <td>Crime, Drama, Thriller</td>\n      <td>A man robs a bank to pay for his lover's opera...</td>\n    </tr>\n    <tr>\n      <th>3</th>\n      <td>Scary Movie</td>\n      <td>Comedy</td>\n      <td>Following on the heels of popular teen-scream ...</td>\n    </tr>\n    <tr>\n      <th>4</th>\n      <td>Un long dimanche de fiançailles</td>\n      <td>Drama</td>\n      <td>In 1919, Mathilde was 19 years old. Two years ...</td>\n    </tr>\n    <tr>\n      <th>5</th>\n      <td>Azuloscurocasinegro</td>\n      <td>Drama</td>\n      <td>Jorge is a young man whose plans for the futur...</td>\n    </tr>\n  </tbody>\n</table>\n</div>"
     },
     "execution_count": 20,
     "metadata": {},
     "output_type": "execute_result"
    }
   ],
   "source": [
    "# Get meta data for predicted movie\n",
    "index = tfrs.layers.factorized_top_k.BruteForce(model.user_model)\n",
    "# recommends movies out of the entire movies dataset.\n",
    "index.index_from_dataset(\n",
    "  tf.data.Dataset.zip((movies.batch(100), movies.batch(100).map(model.movie_model)))\n",
    ")\n",
    "\n",
    "# Get recommendations.\n",
    "_, titles = index(tf.constant(['123']))\n",
    "pred_movies = pd.DataFrame({'original_title': [i.decode('utf-8') for i in titles[0,:5].numpy()]})\n",
    "\n",
    "pred_df = pred_movies.merge(ratings_df[['original_title', 'genres', 'overview']], on='original_title', how='left')\n",
    "pred_df = pred_df[~pred_df['original_title'].duplicated()]\n",
    "pred_df.reset_index(drop=True, inplace=True)\n",
    "pred_df.index = np.arange(1, len(pred_df)+1)\n",
    "\n",
    "pred_df"
   ],
   "metadata": {
    "collapsed": false
   }
  },
  {
   "cell_type": "code",
   "execution_count": null,
   "outputs": [],
   "source": [],
   "metadata": {
    "collapsed": false
   }
  }
 ],
 "metadata": {
  "kernelspec": {
   "display_name": "Python 3",
   "language": "python",
   "name": "python3"
  },
  "language_info": {
   "codemirror_mode": {
    "name": "ipython",
    "version": 2
   },
   "file_extension": ".py",
   "mimetype": "text/x-python",
   "name": "python",
   "nbconvert_exporter": "python",
   "pygments_lexer": "ipython2",
   "version": "2.7.6"
  }
 },
 "nbformat": 4,
 "nbformat_minor": 0
}
